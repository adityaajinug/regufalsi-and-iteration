{
 "cells": [
  {
   "cell_type": "code",
   "execution_count": 1,
   "metadata": {},
   "outputs": [
    {
     "name": "stdout",
     "output_type": "stream",
     "text": [
      "iterasi ke 1, i = 0, x0 = 0.5, x1 = 1.299274\n",
      "iterasi ke 2, i = 1, x1 = 1.299274, x2 = 1.817148\n",
      "iterasi ke 3, i = 2, x2 = 1.817148, x3 = 1.950574\n",
      "iterasi ke 4, i = 3, x3 = 1.950574, x4 = 1.969743\n",
      "iterasi ke 5, i = 4, x4 = 1.969743, x5 = 1.972069\n",
      "Akar persamaan: 1.972069\n"
     ]
    }
   ],
   "source": [
    "import math\n",
    "\n",
    "def f(x):\n",
    "    return 2 * math.sin(math.sqrt(x)) - x\n",
    "\n",
    "def iteration_method(x0, n):\n",
    "    for i in range(n):\n",
    "        x1 = 2 * math.sin(math.sqrt(x0))\n",
    "        \n",
    "        if i == 0:\n",
    "            print(f\"iterasi ke {i + 1}, i = {i}, x0 = {x0}, x1 = {x1:.6f}\")\n",
    "        else:\n",
    "            print(f\"iterasi ke {i + 1}, i = {i}, x{i} = {x0:.6f}, x{i + 1} = {x1:.6f}\")\n",
    "\n",
    "        x0 = x1\n",
    "\n",
    "    return x1\n",
    "\n",
    "x0 = 0.5  # Titik awal iterasi\n",
    "\n",
    "root = iteration_method(x0, 5)\n",
    "\n",
    "print(f\"Akar persamaan: {root:.6f}\")\n"
   ]
  }
 ],
 "metadata": {
  "kernelspec": {
   "display_name": "Python 3.11.5 ('base')",
   "language": "python",
   "name": "python3"
  },
  "language_info": {
   "codemirror_mode": {
    "name": "ipython",
    "version": 3
   },
   "file_extension": ".py",
   "mimetype": "text/x-python",
   "name": "python",
   "nbconvert_exporter": "python",
   "pygments_lexer": "ipython3",
   "version": "3.11.5"
  },
  "orig_nbformat": 4,
  "vscode": {
   "interpreter": {
    "hash": "3c06e3e46abf38078fe4dac36a0085ec2b134ebbd73dd076183d243eeca6918f"
   }
  }
 },
 "nbformat": 4,
 "nbformat_minor": 2
}
