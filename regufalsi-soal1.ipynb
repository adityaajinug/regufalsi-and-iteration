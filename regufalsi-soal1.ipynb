{
 "cells": [
  {
   "cell_type": "code",
   "execution_count": 1,
   "metadata": {},
   "outputs": [
    {
     "name": "stdout",
     "output_type": "stream",
     "text": [
      "Iterasi 1: a = 5.378788, b = 10.000000, f(a) = 1.050275, f(b) = -30.500000, f(c) = 1.050275\n",
      "Iterasi 2: a = 5.532623, b = 10.000000, f(a) = 0.412344, f(b) = -30.500000, f(c) = 0.412344\n",
      "Iterasi 3: a = 5.592214, b = 10.000000, f(a) = 0.157599, f(b) = -30.500000, f(c) = 0.157599\n",
      "Iterasi 4: a = 5.614873, b = 10.000000, f(a) = 0.059617, f(b) = -30.500000, f(c) = 0.059617\n",
      "Iterasi 5: a = 5.623427, b = 10.000000, f(a) = 0.022464, f(b) = -30.500000, f(c) = 0.022464\n",
      "Iterasi 6: a = 5.626649, b = 10.000000, f(a) = 0.008452, f(b) = -30.500000, f(c) = 0.008452\n",
      "Iterasi 7: a = 5.627860, b = 10.000000, f(a) = 0.003178, f(b) = -30.500000, f(c) = 0.003178\n",
      "Iterasi 8: a = 5.628316, b = 10.000000, f(a) = 0.001195, f(b) = -30.500000, f(c) = 0.001195\n",
      "Iterasi 9: a = 5.628487, b = 10.000000, f(a) = 0.000449, f(b) = -30.500000, f(c) = 0.000449\n",
      "Iterasi 10: a = 5.628551, b = 10.000000, f(a) = 0.000169, f(b) = -30.500000, f(c) = 0.000169\n",
      "Iterasi 11: a = 5.628576, b = 10.000000, f(a) = 0.000063, f(b) = -30.500000, f(c) = 0.000063\n",
      "Iterasi 12: a = 5.628585, b = 10.000000, f(a) = 0.000024, f(b) = -30.500000, f(c) = 0.000024\n",
      "Iterasi 13: a = 5.628588, b = 10.000000, f(a) = 0.000009, f(b) = -30.500000, f(c) = 0.000009\n",
      "Iterasi 14: a = 5.628589, b = 10.000000, f(a) = 0.000003, f(b) = -30.500000, f(c) = 0.000003\n",
      "Iterasi 15: a = 5.628590, b = 10.000000, f(a) = 0.000001, f(b) = -30.500000, f(c) = 0.000001\n",
      "Akar persamaan: 5.628590\n"
     ]
    }
   ],
   "source": [
    "def f(x):\n",
    "    return -0.6 * x**2 + 2.4 * x + 5.5\n",
    "\n",
    "def regula_falsi(a, b, epsilon=1e-6, max_iter=100):\n",
    "    if f(a) * f(b) >= 0:\n",
    "        print(\"Interval tidak memenuhi syarat.\")\n",
    "        return None\n",
    "    \n",
    "    for i in range(max_iter):\n",
    "        c = (a * f(b) - b * f(a)) / (f(b) - f(a))\n",
    "\n",
    "        if abs(f(c)) < epsilon:\n",
    "            return c\n",
    "\n",
    "        if f(c) * f(a) < 0:\n",
    "            b = c\n",
    "        else:\n",
    "            a = c\n",
    "        \n",
    "        print(f\"Iterasi {i + 1}: a = {a:.4f}, b = {b:.4f}, f(a) = {f(a):.4f}, f(b) = {f(b):.4f}, f(c) = {f(c):.4f}\")\n",
    "\n",
    "    return None   \n",
    "\n",
    "a = 5\n",
    "b = 10\n",
    "\n",
    "root = regula_falsi(a, b)\n",
    "\n",
    "if root is not None:\n",
    "    print(f\"Akar persamaan: {root:.4f}\")\n",
    "else: \n",
    "    print(\"Metode regula falsi tidak konvergen setelah batas iterasi.\")\n"
   ]
  }
 ],
 "metadata": {
  "kernelspec": {
   "display_name": "Python 3.10.11 64-bit (microsoft store)",
   "language": "python",
   "name": "python3"
  },
  "language_info": {
   "codemirror_mode": {
    "name": "ipython",
    "version": 3
   },
   "file_extension": ".py",
   "mimetype": "text/x-python",
   "name": "python",
   "nbconvert_exporter": "python",
   "pygments_lexer": "ipython3",
   "version": "3.10.11"
  },
  "orig_nbformat": 4,
  "vscode": {
   "interpreter": {
    "hash": "c5e5d38ecd7d34c8deddf299ba7fee673fa3739a292bb3002799125fc55286d9"
   }
  }
 },
 "nbformat": 4,
 "nbformat_minor": 2
}
