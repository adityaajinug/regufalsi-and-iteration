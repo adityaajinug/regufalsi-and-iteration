{
 "cells": [
  {
   "cell_type": "code",
   "execution_count": 1,
   "metadata": {},
   "outputs": [
    {
     "name": "stdout",
     "output_type": "stream",
     "text": [
      "Iterasi 1: a = 0.000000, b = 0.460000, f(a) = -2.300000, f(b) = 0.039744, f(c) = 0.039744\n",
      "Iterasi 2: a = 0.000000, b = 0.452186, f(a) = -2.300000, f(b) = 0.008308, f(c) = 0.008308\n",
      "Iterasi 3: a = 0.000000, b = 0.450559, f(a) = -2.300000, f(b) = 0.001752, f(c) = 0.001752\n",
      "Iterasi 4: a = 0.000000, b = 0.450216, f(a) = -2.300000, f(b) = 0.000370, f(c) = 0.000370\n",
      "Iterasi 5: a = 0.000000, b = 0.450143, f(a) = -2.300000, f(b) = 0.000078, f(c) = 0.000078\n",
      "Iterasi 6: a = 0.000000, b = 0.450128, f(a) = -2.300000, f(b) = 0.000017, f(c) = 0.000017\n",
      "Iterasi 7: a = 0.000000, b = 0.450125, f(a) = -2.300000, f(b) = 0.000003, f(c) = 0.000003\n",
      "Akar persamaan: 0.450124\n"
     ]
    }
   ],
   "source": [
    "def f(x):\n",
    "    return 4*x**3 - 6*x**2 + 7*x - 2.3\n",
    "\n",
    "def regula_falsi(a, b, epsilon=1e-6, max_iter=100):\n",
    "    if f(a) * f(b) >= 0:\n",
    "        print(\"Interval tidak memenuhi syarat.\")\n",
    "        return None\n",
    "    \n",
    "    for i in range(max_iter):\n",
    "        c = (a * f(b) - b * f(a)) / (f(b) - f(a))\n",
    "\n",
    "        if abs(f(c)) < epsilon:\n",
    "            return c\n",
    "\n",
    "        if f(c) * f(a) < 0:\n",
    "            b = c\n",
    "        else:\n",
    "            a = c\n",
    "        \n",
    "        print(f\"Iterasi {i + 1}: a = {a:.6f}, b = {b:.6f}, f(a) = {f(a):.6f}, f(b) = {f(b):.6f}, f(c) = {f(c):.6f}\")\n",
    "\n",
    "    return None   \n",
    "\n",
    "a = 0\n",
    "b = 1\n",
    "\n",
    "root = regula_falsi(a, b)\n",
    "\n",
    "if root is not None:\n",
    "    print(f\"Akar persamaan: {root:.6f}\")\n",
    "else: \n",
    "    print(\"Metode regula falsi tidak konvergen setelah batas iterasi.\")\n"
   ]
  }
 ],
 "metadata": {
  "kernelspec": {
   "display_name": "Python 3.10.11 64-bit (microsoft store)",
   "language": "python",
   "name": "python3"
  },
  "language_info": {
   "codemirror_mode": {
    "name": "ipython",
    "version": 3
   },
   "file_extension": ".py",
   "mimetype": "text/x-python",
   "name": "python",
   "nbconvert_exporter": "python",
   "pygments_lexer": "ipython3",
   "version": "3.10.11"
  },
  "orig_nbformat": 4,
  "vscode": {
   "interpreter": {
    "hash": "c5e5d38ecd7d34c8deddf299ba7fee673fa3739a292bb3002799125fc55286d9"
   }
  }
 },
 "nbformat": 4,
 "nbformat_minor": 2
}
