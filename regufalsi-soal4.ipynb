{
 "cells": [
  {
   "cell_type": "code",
   "execution_count": 1,
   "metadata": {},
   "outputs": [
    {
     "name": "stdout",
     "output_type": "stream",
     "text": [
      "Iterasi 1: a = 2.768318, b = 5.000000, f(a) = -44.701529, f(b) = 199.508497, f(c) = -44.701529\n",
      "Iterasi 2: a = 3.176817, b = 5.000000, f(a) = -22.855720, f(b) = 199.508497, f(c) = -22.855720\n",
      "Iterasi 3: a = 3.364213, b = 5.000000, f(a) = -10.161927, f(b) = 199.508497, f(c) = -10.161927\n",
      "Iterasi 4: a = 3.443493, b = 5.000000, f(a) = -4.229976, f(b) = 199.508497, f(c) = -4.229976\n",
      "Iterasi 5: a = 3.475809, b = 5.000000, f(a) = -1.711890, f(b) = 199.508497, f(c) = -1.711890\n",
      "Iterasi 6: a = 3.488776, b = 5.000000, f(a) = -0.684878, f(b) = 199.508497, f(c) = -0.684878\n",
      "Iterasi 7: a = 3.493946, b = 5.000000, f(a) = -0.272735, f(b) = 199.508497, f(c) = -0.272735\n",
      "Iterasi 8: a = 3.496002, b = 5.000000, f(a) = -0.108410, f(b) = 199.508497, f(c) = -0.108410\n",
      "Iterasi 9: a = 3.496819, b = 5.000000, f(a) = -0.043060, f(b) = 199.508497, f(c) = -0.043060\n",
      "Iterasi 10: a = 3.497144, b = 5.000000, f(a) = -0.017099, f(b) = 199.508497, f(c) = -0.017099\n",
      "Iterasi 11: a = 3.497272, b = 5.000000, f(a) = -0.006789, f(b) = 199.508497, f(c) = -0.006789\n",
      "Iterasi 12: a = 3.497324, b = 5.000000, f(a) = -0.002695, f(b) = 199.508497, f(c) = -0.002695\n",
      "Iterasi 13: a = 3.497344, b = 5.000000, f(a) = -0.001070, f(b) = 199.508497, f(c) = -0.001070\n",
      "Iterasi 14: a = 3.497352, b = 5.000000, f(a) = -0.000425, f(b) = 199.508497, f(c) = -0.000425\n",
      "Iterasi 15: a = 3.497355, b = 5.000000, f(a) = -0.000169, f(b) = 199.508497, f(c) = -0.000169\n",
      "Iterasi 16: a = 3.497356, b = 5.000000, f(a) = -0.000067, f(b) = 199.508497, f(c) = -0.000067\n",
      "Iterasi 17: a = 3.497357, b = 5.000000, f(a) = -0.000027, f(b) = 199.508497, f(c) = -0.000027\n",
      "Iterasi 18: a = 3.497357, b = 5.000000, f(a) = -0.000011, f(b) = 199.508497, f(c) = -0.000011\n",
      "Iterasi 19: a = 3.497357, b = 5.000000, f(a) = -0.000004, f(b) = 199.508497, f(c) = -0.000004\n",
      "Iterasi 20: a = 3.497357, b = 5.000000, f(a) = -0.000002, f(b) = 199.508497, f(c) = -0.000002\n",
      "Akar persamaan: 3.497357\n"
     ]
    }
   ],
   "source": [
    "def f(x):\n",
    "    return x**3.5 - 80\n",
    "\n",
    "def regula_falsi(a, b, epsilon=1e-6, max_iter=100):\n",
    "    if f(a) * f(b) >= 0:\n",
    "        print(\"Interval tidak memenuhi syarat.\")\n",
    "        return None\n",
    "    \n",
    "    for i in range(max_iter):\n",
    "        c = (a * f(b) - b * f(a)) / (f(b) - f(a))\n",
    "\n",
    "        if abs(f(c)) < epsilon:\n",
    "            return c\n",
    "\n",
    "        if f(c) * f(a) < 0:\n",
    "            b = c\n",
    "        else:\n",
    "            a = c\n",
    "        \n",
    "        print(f\"Iterasi {i + 1}: a = {a:.6f}, b = {b:.6f}, f(a) = {f(a):.6f}, f(b) = {f(b):.6f}, f(c) = {f(c):.6f}\")\n",
    "\n",
    "    return None   \n",
    "\n",
    "a = 2\n",
    "b = 5\n",
    "\n",
    "root = regula_falsi(a, b)\n",
    "\n",
    "if root is not None:\n",
    "    print(f\"Akar persamaan: {root:.6f}\")\n",
    "else: \n",
    "    print(\"Metode regula falsi tidak konvergen setelah batas iterasi.\")\n"
   ]
  }
 ],
 "metadata": {
  "kernelspec": {
   "display_name": "Python 3.10.11 64-bit (microsoft store)",
   "language": "python",
   "name": "python3"
  },
  "language_info": {
   "codemirror_mode": {
    "name": "ipython",
    "version": 3
   },
   "file_extension": ".py",
   "mimetype": "text/x-python",
   "name": "python",
   "nbconvert_exporter": "python",
   "pygments_lexer": "ipython3",
   "version": "3.10.11"
  },
  "orig_nbformat": 4,
  "vscode": {
   "interpreter": {
    "hash": "c5e5d38ecd7d34c8deddf299ba7fee673fa3739a292bb3002799125fc55286d9"
   }
  }
 },
 "nbformat": 4,
 "nbformat_minor": 2
}
