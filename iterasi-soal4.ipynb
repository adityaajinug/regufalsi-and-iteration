{
 "cells": [
  {
   "cell_type": "code",
   "execution_count": 2,
   "metadata": {},
   "outputs": [
    {
     "name": "stdout",
     "output_type": "stream",
     "text": [
      "iterasi ke 1, i = 0, x0 = 3.5, x1 = 0.6382\n",
      "iterasi ke 2, i = 1, x1 = 0.6382, x2 = -1.2631\n",
      "iterasi ke 3, i = 2, x2 = -1.2631, x3 = -32.7314\n",
      "iterasi ke 4, i = 3, x3 = -32.7314, x4 = -42102.2388\n",
      "iterasi ke 5, i = 4, x4 = -42102.2388, x5 = -74641374978285.8594\n",
      "Akar persamaan: -74641374978285.8594\n"
     ]
    }
   ],
   "source": [
    "def f(x):\n",
    "    return (0.95*x**3 - 5.9*x**2 + 10.9*x - 6) / 0.95\n",
    "\n",
    "def iteration_method(x0, n):\n",
    "    for i in range(n):\n",
    "        x1 = f(x0)\n",
    "        \n",
    "        if i == 0:\n",
    "            print(f\"iterasi ke {i + 1}, i = {i}, x0 = {x0}, x1 = {x1:.4f}\")\n",
    "        else:\n",
    "            print(f\"iterasi ke {i + 1}, i = {i}, x{i} = {x0:.4f}, x{i + 1} = {x1:.4f}\")\n",
    "\n",
    "        x0 = x1\n",
    "\n",
    "    return x1\n",
    "\n",
    "x0 = 3.5  # Titik awal iterasi\n",
    "\n",
    "root = iteration_method(x0, 5)\n",
    "\n",
    "print(f\"Akar persamaan: {root:.4f}\")\n"
   ]
  }
 ],
 "metadata": {
  "kernelspec": {
   "display_name": "Python 3.10.11 64-bit (microsoft store)",
   "language": "python",
   "name": "python3"
  },
  "language_info": {
   "codemirror_mode": {
    "name": "ipython",
    "version": 3
   },
   "file_extension": ".py",
   "mimetype": "text/x-python",
   "name": "python",
   "nbconvert_exporter": "python",
   "pygments_lexer": "ipython3",
   "version": "3.10.11"
  },
  "orig_nbformat": 4,
  "vscode": {
   "interpreter": {
    "hash": "c5e5d38ecd7d34c8deddf299ba7fee673fa3739a292bb3002799125fc55286d9"
   }
  }
 },
 "nbformat": 4,
 "nbformat_minor": 2
}
