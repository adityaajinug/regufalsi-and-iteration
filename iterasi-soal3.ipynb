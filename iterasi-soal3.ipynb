{
 "cells": [
  {
   "cell_type": "code",
   "execution_count": 1,
   "metadata": {},
   "outputs": [
    {
     "name": "stdout",
     "output_type": "stream",
     "text": [
      "iterasi ke 1, i = 0, x0 = 5, x1 = 2.300000\n",
      "iterasi ke 2, i = 1, x1 = 2.300000, x2 = 2.886957\n",
      "iterasi ke 3, i = 2, x2 = 2.886957, x3 = 2.665964\n",
      "iterasi ke 4, i = 3, x3 = 2.665964, x4 = 2.737747\n",
      "iterasi ke 5, i = 4, x4 = 2.737747, x5 = 2.713160\n",
      "Akar persamaan: 2.713160\n"
     ]
    }
   ],
   "source": [
    "def f(x):\n",
    "    return (1.8*x + 2.5) / x\n",
    "\n",
    "def iteration_method(x0, n):\n",
    "    for i in range(n):\n",
    "        x1 = (1.8*x0 + 2.5) / x0\n",
    "        \n",
    "        if i == 0:\n",
    "            print(f\"iterasi ke {i + 1}, i = {i}, x0 = {x0}, x1 = {x1:.4f}\")\n",
    "        else:\n",
    "            print(f\"iterasi ke {i + 1}, i = {i}, x{i} = {x0:.4f}, x{i + 1} = {x1:.4f}\")\n",
    "\n",
    "        x0 = x1\n",
    "\n",
    "    return x1\n",
    "\n",
    "x0 = 5  # Titik awal iterasi\n",
    "\n",
    "root = iteration_method(x0, 5)\n",
    "\n",
    "print(f\"Akar persamaan: {root:.4f}\")\n"
   ]
  }
 ],
 "metadata": {
  "kernelspec": {
   "display_name": "Python 3.10.11 64-bit (microsoft store)",
   "language": "python",
   "name": "python3"
  },
  "language_info": {
   "codemirror_mode": {
    "name": "ipython",
    "version": 3
   },
   "file_extension": ".py",
   "mimetype": "text/x-python",
   "name": "python",
   "nbconvert_exporter": "python",
   "pygments_lexer": "ipython3",
   "version": "3.10.11"
  },
  "orig_nbformat": 4,
  "vscode": {
   "interpreter": {
    "hash": "c5e5d38ecd7d34c8deddf299ba7fee673fa3739a292bb3002799125fc55286d9"
   }
  }
 },
 "nbformat": 4,
 "nbformat_minor": 2
}
