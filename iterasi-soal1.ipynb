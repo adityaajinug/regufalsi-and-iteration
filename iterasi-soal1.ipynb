{
 "cells": [
  {
   "cell_type": "code",
   "execution_count": 18,
   "metadata": {},
   "outputs": [
    {
     "name": "stdout",
     "output_type": "stream",
     "text": [
      "iterasi ke 1, i = 0, x0 = 4, x1 = 3.3166\n",
      "iterasi ke 2, i = 1, x1 = 3.3166, x2 = 3.1037\n",
      "iterasi ke 3, i = 2, x2 = 3.1037, x3 = 3.0344\n",
      "iterasi ke 4, i = 3, x3 = 3.0344, x4 = 3.0114\n",
      "iterasi ke 5, i = 4, x4 = 3.0114, x5 = 3.0038\n",
      "iterasi ke 6, i = 5, x5 = 3.0038, x6 = 3.0013\n",
      "iterasi ke 7, i = 6, x6 = 3.0013, x7 = 3.0004\n",
      "iterasi ke 8, i = 7, x7 = 3.0004, x8 = 3.0001\n",
      "iterasi ke 9, i = 8, x8 = 3.0001, x9 = 3.0000\n",
      "iterasi ke 10, i = 9, x9 = 3.0000, x10 = 3.0000\n",
      "Akar persamaan: 3.0000\n"
     ]
    }
   ],
   "source": [
    "def iteration_method(x0, n):\n",
    "    for i in range(n):\n",
    "        x1 = (2*x0 + 3)**0.5\n",
    "        \n",
    "        if i == 0:\n",
    "            print(f\"iterasi ke {i + 1}, i = {i}, x0 = {x0}, x1 = {x1:.4f}\")\n",
    "        else:\n",
    "            print(f\"iterasi ke {i + 1}, i = {i}, x{i} = {x0:.4f}, x{i + 1} = {x1:.4f}\")\n",
    "\n",
    "        x0 = x1\n",
    "\n",
    "    return x1\n",
    "\n",
    "x0 = 4  # Titik awal iterasi\n",
    "\n",
    "root = iteration_method(x0, 10)\n",
    "\n",
    "print(f\"Akar persamaan: {root:.4f}\")\n"
   ]
  }
 ],
 "metadata": {
  "kernelspec": {
   "display_name": "Python 3.10.11 64-bit (microsoft store)",
   "language": "python",
   "name": "python3"
  },
  "language_info": {
   "codemirror_mode": {
    "name": "ipython",
    "version": 3
   },
   "file_extension": ".py",
   "mimetype": "text/x-python",
   "name": "python",
   "nbconvert_exporter": "python",
   "pygments_lexer": "ipython3",
   "version": "3.10.11"
  },
  "orig_nbformat": 4,
  "vscode": {
   "interpreter": {
    "hash": "c5e5d38ecd7d34c8deddf299ba7fee673fa3739a292bb3002799125fc55286d9"
   }
  }
 },
 "nbformat": 4,
 "nbformat_minor": 2
}
