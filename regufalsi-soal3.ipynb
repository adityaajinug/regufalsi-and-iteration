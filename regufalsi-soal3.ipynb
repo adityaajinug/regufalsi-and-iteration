{
 "cells": [
  {
   "cell_type": "code",
   "execution_count": 2,
   "metadata": {},
   "outputs": [
    {
     "name": "stdout",
     "output_type": "stream",
     "text": [
      "Iterasi 1: a = 0.500000, b = 0.597990, f(a) = -1.218750, f(b) = 0.750568, f(c) = 0.750568\n",
      "Iterasi 2: a = 0.500000, b = 0.560643, f(a) = -1.218750, f(b) = 0.070244, f(c) = 0.070244\n",
      "Iterasi 3: a = 0.500000, b = 0.557338, f(a) = -1.218750, f(b) = 0.006103, f(c) = 0.006103\n",
      "Iterasi 4: a = 0.500000, b = 0.557052, f(a) = -1.218750, f(b) = 0.000527, f(c) = 0.000527\n",
      "Iterasi 5: a = 0.500000, b = 0.557028, f(a) = -1.218750, f(b) = 0.000045, f(c) = 0.000045\n",
      "Iterasi 6: a = 0.500000, b = 0.557026, f(a) = -1.218750, f(b) = 0.000004, f(c) = 0.000004\n",
      "Akar persamaan: 0.557026\n"
     ]
    }
   ],
   "source": [
    "def f(x):\n",
    "    return -26 + 85*x - 91*x**2 + 44*x**3 - 8*x**4 + x**5\n",
    "\n",
    "def regula_falsi(a, b, epsilon=1e-6, max_iter=100):\n",
    "    if f(a) * f(b) >= 0:\n",
    "        print(\"Interval tidak memenuhi syarat.\")\n",
    "        return None\n",
    "    \n",
    "    for i in range(max_iter):\n",
    "        c = (a * f(b) - b * f(a)) / (f(b) - f(a))\n",
    "\n",
    "        if abs(f(c)) < epsilon:\n",
    "            return c\n",
    "\n",
    "        if f(c) * f(a) < 0:\n",
    "            b = c\n",
    "        else:\n",
    "            a = c\n",
    "        \n",
    "        print(f\"Iterasi {i + 1}: a = {a:.6f}, b = {b:.6f}, f(a) = {f(a):.6f}, f(b) = {f(b):.6f}, f(c) = {f(c):.6f}\")\n",
    "\n",
    "    return None   \n",
    "\n",
    "a = 0.5\n",
    "b = 1.0\n",
    "\n",
    "root = regula_falsi(a, b)\n",
    "\n",
    "if root is not None:\n",
    "    print(f\"Akar persamaan: {root:.6f}\")\n",
    "else: \n",
    "    print(\"Metode regula falsi tidak konvergen setelah batas iterasi.\")\n"
   ]
  }
 ],
 "metadata": {
  "kernelspec": {
   "display_name": "Python 3.10.11 64-bit (microsoft store)",
   "language": "python",
   "name": "python3"
  },
  "language_info": {
   "codemirror_mode": {
    "name": "ipython",
    "version": 3
   },
   "file_extension": ".py",
   "mimetype": "text/x-python",
   "name": "python",
   "nbconvert_exporter": "python",
   "pygments_lexer": "ipython3",
   "version": "3.10.11"
  },
  "orig_nbformat": 4,
  "vscode": {
   "interpreter": {
    "hash": "c5e5d38ecd7d34c8deddf299ba7fee673fa3739a292bb3002799125fc55286d9"
   }
  }
 },
 "nbformat": 4,
 "nbformat_minor": 2
}
